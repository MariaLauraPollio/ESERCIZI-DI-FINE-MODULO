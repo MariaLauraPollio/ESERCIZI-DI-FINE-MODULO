{
 "cells": [
  {
   "cell_type": "markdown",
   "metadata": {},
   "source": [
    "ESERCIZIO FINALE"
   ]
  },
  {
   "cell_type": "markdown",
   "metadata": {},
   "source": [
    "L'esercizio è mirato a prendere confidenza con l'analisi dati in Python e in particolare con tutte le strutture dati viste, le funzioni e i costrutti principali. Per eseguire l'esercizio è preferibile utilizzare come tool di programmazione Jupyter Lab, Jupyter Notebook o Collaboratory; in alternativa si potranno utilizzare IDE quali PyCharm oppure Spyder."
   ]
  },
  {
   "cell_type": "markdown",
   "metadata": {},
   "source": [
    "Analisi diffusione COVID-19 nel mondo\n",
    "il committente richiede di avere un report sui casi e vaccinazioni in diverse aree del mondo; a tal fine, richiede di utilizzare il dataset, curato da Our World in Data, all'indirizzo https://github.com/owid/covid-19-data/tree/master/public/data; alla voce \"Download our complete COVID-19 dataset\" scaricare il dataset in formato CSV oppure in formato JSON. \n",
    "- Si richiede di verificare le dimensioni del dataset e le diciture presenti nell'intestazione.\n",
    "- Si chiede poi per ogni continente di trovare il numero di casi totali avvenuti in quello stesso continente; si chiede di non considerare eventuali locazioni che nel dataset non appartengono a nessu continente.\n",
    "- Sempre riguardo i casi di COVID totali, si chiede di sviluppare una funzione che prenda in input il dataset e due nomi di continenti e, che ne confronti i seguenti relativi descrittori statistici: valori minimo e massimo, media, e percentuale rispetto al numero dei casi totali nel mondo(in questo caso calcolati anche sulle locazioni senza indicazione di continente).\n",
    "- Si chiede poi di effettuare lo stesso tipo di analisi - anche in questo caso sviluppando una funzione ad hoc - per il numero di vaccinazioni totali per ogni continente.\n",
    "- Alla fine, basandosi sui calcoli fatti, il committente chiede di stilare un breve (tre o quattro righe) paragrafo testuale riassuntivo sulle statistiche di casi e vaccinazioni, che si concentri solo sulle differenze esistenti tra Europa, Sud America e Oceania. \n",
    "Per effettuare e analisi si potranno usare, a scelta, strumenti come funzioni e strutture dati built-in quali open(), liste, dizionari; moduli built-in quali csv o json; moduli esterni quali Pandas e i relativi metodi e tipi di dato."
   ]
  },
  {
   "cell_type": "code",
   "execution_count": 1,
   "metadata": {},
   "outputs": [],
   "source": [
    "import pandas as pd\n",
    "\n",
    "covid_data = pd.read_csv(r\"C:\\Users\\User\\OneDrive\\Documenti\\epicode modulo 4 - phyton\\esercizio finale\\owid-covid-data.csv\")"
   ]
  },
  {
   "cell_type": "code",
   "execution_count": 2,
   "metadata": {},
   "outputs": [
    {
     "name": "stdout",
     "output_type": "stream",
     "text": [
      "(344834, 67)\n",
      "Index(['iso_code', 'continent', 'location', 'date', 'total_cases', 'new_cases',\n",
      "       'new_cases_smoothed', 'total_deaths', 'new_deaths',\n",
      "       'new_deaths_smoothed', 'total_cases_per_million',\n",
      "       'new_cases_per_million', 'new_cases_smoothed_per_million',\n",
      "       'total_deaths_per_million', 'new_deaths_per_million',\n",
      "       'new_deaths_smoothed_per_million', 'reproduction_rate', 'icu_patients',\n",
      "       'icu_patients_per_million', 'hosp_patients',\n",
      "       'hosp_patients_per_million', 'weekly_icu_admissions',\n",
      "       'weekly_icu_admissions_per_million', 'weekly_hosp_admissions',\n",
      "       'weekly_hosp_admissions_per_million', 'total_tests', 'new_tests',\n",
      "       'total_tests_per_thousand', 'new_tests_per_thousand',\n",
      "       'new_tests_smoothed', 'new_tests_smoothed_per_thousand',\n",
      "       'positive_rate', 'tests_per_case', 'tests_units', 'total_vaccinations',\n",
      "       'people_vaccinated', 'people_fully_vaccinated', 'total_boosters',\n",
      "       'new_vaccinations', 'new_vaccinations_smoothed',\n",
      "       'total_vaccinations_per_hundred', 'people_vaccinated_per_hundred',\n",
      "       'people_fully_vaccinated_per_hundred', 'total_boosters_per_hundred',\n",
      "       'new_vaccinations_smoothed_per_million',\n",
      "       'new_people_vaccinated_smoothed',\n",
      "       'new_people_vaccinated_smoothed_per_hundred', 'stringency_index',\n",
      "       'population_density', 'median_age', 'aged_65_older', 'aged_70_older',\n",
      "       'gdp_per_capita', 'extreme_poverty', 'cardiovasc_death_rate',\n",
      "       'diabetes_prevalence', 'female_smokers', 'male_smokers',\n",
      "       'handwashing_facilities', 'hospital_beds_per_thousand',\n",
      "       'life_expectancy', 'human_development_index', 'population',\n",
      "       'excess_mortality_cumulative_absolute', 'excess_mortality_cumulative',\n",
      "       'excess_mortality', 'excess_mortality_cumulative_per_million'],\n",
      "      dtype='object')\n"
     ]
    }
   ],
   "source": [
    "#verifico dati e intestazioni\n",
    "dimensioni = covid_data.shape\n",
    "print(dimensioni)\n",
    "\n",
    "etichette=covid_data.columns\n",
    "print(etichette)"
   ]
  },
  {
   "cell_type": "code",
   "execution_count": 3,
   "metadata": {},
   "outputs": [
    {
     "name": "stdout",
     "output_type": "stream",
     "text": [
      "       continent   total_cases\n",
      "0         Africa  1.055757e+10\n",
      "1           Asia  1.590859e+11\n",
      "2         Europe  1.585444e+11\n",
      "3  North America  8.857894e+10\n",
      "4        Oceania  7.019318e+09\n",
      "5  South America  5.225882e+10\n"
     ]
    }
   ],
   "source": [
    "#trovo il numero di casi per continente\n",
    "casi_per_continente = covid_data.groupby('continent')['total_cases'].sum().reset_index()\n",
    "print(casi_per_continente)\n"
   ]
  },
  {
   "cell_type": "code",
   "execution_count": 10,
   "metadata": {},
   "outputs": [
    {
     "name": "stdout",
     "output_type": "stream",
     "text": [
      "{'minimo1': 1.0, 'minimo2': 1.0, 'massimo1': 37720419.0, 'massimo2': 11600795.0, 'media1': 2878005.230146492, 'media2': 319786.7095671982, 'percentuale1': 10.977705834501887, 'percentuale2': 1.4745073214800921}\n"
     ]
    }
   ],
   "source": [
    "#definisco una funzione che confronti i casi totali tra due continenti\n",
    "def confronto_casi(covid_data, continente1, continente2):\n",
    "    covid_data = covid_data.dropna(subset=['continent'])\n",
    "    continent1_data = covid_data[covid_data['continent'] == continente1]['total_cases']\n",
    "    continent2_data = covid_data[covid_data['continent'] == continente2]['total_cases']\n",
    "\n",
    "    min1 = continent1_data.min()\n",
    "    min2 = continent2_data.min()\n",
    "    max1 = continent1_data.max()\n",
    "    max2 = continent2_data.max()\n",
    "    mean1 = continent1_data.mean()\n",
    "    mean2 = continent2_data.mean()\n",
    "\n",
    "    totale_mondo = covid_data['total_cases'].sum()\n",
    "    percentage1 = (continent1_data.sum() / totale_mondo) * 100\n",
    "    percentage2 = (continent2_data.sum() / totale_mondo) * 100\n",
    "\n",
    "    risultato = {\n",
    "        'minimo1': min1,\n",
    "        'minimo2': min2,\n",
    "        'massimo1': max1,\n",
    "        'massimo2': max2,\n",
    "        'media1': mean1,\n",
    "        'media2': mean2,\n",
    "        'percentuale1': percentage1,\n",
    "        'percentuale2': percentage2\n",
    "    }\n",
    "\n",
    "    return risultato\n",
    "\n",
    "risultato_confronto = confronto_casi(covid_data, 'South America', 'Oceania')\n",
    "print(risultato_confronto)\n"
   ]
  },
  {
   "cell_type": "code",
   "execution_count": 11,
   "metadata": {},
   "outputs": [
    {
     "name": "stdout",
     "output_type": "stream",
     "text": [
      "{'minimo1': 0.0, 'minimo2': 0.0, 'massimo1': 486436436.0, 'massimo2': 65492360.0, 'media1': 64896758.56763671, 'media2': 12483639.778162055, 'percentuale1': 7.069255056246212, 'percentuale2': 0.4400930451199948}\n"
     ]
    }
   ],
   "source": [
    "#confronto il numero di funzioni tra due contineti\n",
    "def confronto_vaccinazioni_per_continente(covid_data, continente1, continente2):\n",
    "    covid_data = covid_data.dropna(subset=['continent'])\n",
    "    continent1_data = covid_data[covid_data['continent'] == continente1]['total_vaccinations']\n",
    "    continent2_data = covid_data[covid_data['continent'] == continente2]['total_vaccinations']\n",
    "\n",
    "    min1 = continent1_data.min()\n",
    "    min2 = continent2_data.min()\n",
    "    max1 = continent1_data.max()\n",
    "    max2 = continent2_data.max()\n",
    "    mean1 = continent1_data.mean()\n",
    "    mean2 = continent2_data.mean()\n",
    "\n",
    "    totale_mondo = covid_data['total_vaccinations'].sum()\n",
    "    percentage1 = (continent1_data.sum() / totale_mondo) * 100\n",
    "    percentage2 = (continent2_data.sum() / totale_mondo) * 100\n",
    "\n",
    "    risultato = {\n",
    "        'minimo1': min1,\n",
    "        'minimo2': min2,\n",
    "        'massimo1': max1,\n",
    "        'massimo2': max2,\n",
    "        'media1': mean1,\n",
    "        'media2': mean2,\n",
    "        'percentuale1': percentage1,\n",
    "        'percentuale2': percentage2\n",
    "    }\n",
    "\n",
    "    return risultato\n",
    "\n",
    "risultato_confronto_vaccinazioni = confronto_vaccinazioni_per_continente(covid_data, 'South America', 'Oceania')\n",
    "print(risultato_confronto_vaccinazioni)\n"
   ]
  },
  {
   "cell_type": "markdown",
   "metadata": {},
   "source": [
    "I dati relativi al COVID-19 di Europa, Sud America e Oceania  presentano differenze sia per quanto concerne la diffusione del COVID-19 che nella campagna di vaccinazione. In particolare, L'Europa ha il numero più alto di casi totali,  l'Oceania ha il numero più basso. Anche se, considerando solo i valori percentuali, l'Europa ha una percentuale  più bassa rispetto a Sud America. Allo stesso mondo, per quanto riguarda le vaccinazioni, l'Europa ha il maggior numero di dosi somministrate, seguita da South America e Oceania. Questi dati sembrano evidenziare che una differente gestione della pandemia ha influenzato la diffusione del virus."
   ]
  }
 ],
 "metadata": {
  "kernelspec": {
   "display_name": "Python 3",
   "language": "python",
   "name": "python3"
  },
  "language_info": {
   "codemirror_mode": {
    "name": "ipython",
    "version": 3
   },
   "file_extension": ".py",
   "mimetype": "text/x-python",
   "name": "python",
   "nbconvert_exporter": "python",
   "pygments_lexer": "ipython3",
   "version": "3.11.5"
  },
  "orig_nbformat": 4
 },
 "nbformat": 4,
 "nbformat_minor": 2
}
